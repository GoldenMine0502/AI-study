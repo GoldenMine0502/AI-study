{
 "cells": [
  {
   "cell_type": "code",
   "execution_count": 2,
   "metadata": {
    "collapsed": true
   },
   "outputs": [
    {
     "name": "stdout",
     "output_type": "stream",
     "text": [
      "X = 20.00, dX = 3.000000\n",
      "X = 17.00, dX = 3.000000\n",
      "X = 14.00, dX = 3.000000\n",
      "X = 11.00, dX = 3.000000\n",
      "X = 8.00, dX = 3.000000\n",
      "X = 5.00, dX = 3.000000\n",
      "X = 2.00, dX = 0.000000\n",
      "X = 2.00, dX = 0.000000\n",
      "X = 2.00, dX = 0.000000\n",
      "X = 2.00, dX = 0.000000\n"
     ]
    }
   ],
   "source": [
    "import tensorflow as tf\n",
    "\n",
    "A, B = tf.constant(3.0), tf.constant(6.0)\n",
    "X = tf.Variable(20.0)\n",
    "\n",
    "def train_step():\n",
    "    with tf.GradientTape() as tape:\n",
    "        loss = tf.math.abs(A * X - B)\n",
    "    dX = tape.gradient(loss, X)\n",
    "    print('X = {:.2f}, dX = {:2f}'.format(X.numpy(), dX))\n",
    "    X.assign(X - dX)\n",
    "\n",
    "for i in range(10):\n",
    "    train_step()"
   ]
  },
  {
   "cell_type": "code",
   "execution_count": null,
   "outputs": [],
   "source": [],
   "metadata": {
    "collapsed": false
   }
  }
 ],
 "metadata": {
  "kernelspec": {
   "display_name": "Python 3",
   "language": "python",
   "name": "python3"
  },
  "language_info": {
   "codemirror_mode": {
    "name": "ipython",
    "version": 2
   },
   "file_extension": ".py",
   "mimetype": "text/x-python",
   "name": "python",
   "nbconvert_exporter": "python",
   "pygments_lexer": "ipython2",
   "version": "2.7.6"
  }
 },
 "nbformat": 4,
 "nbformat_minor": 0
}
